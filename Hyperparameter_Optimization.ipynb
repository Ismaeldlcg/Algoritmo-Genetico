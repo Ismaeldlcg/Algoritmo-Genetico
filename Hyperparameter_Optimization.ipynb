{
  "nbformat": 4,
  "nbformat_minor": 0,
  "metadata": {
    "colab": {
      "provenance": []
    },
    "kernelspec": {
      "name": "python3",
      "display_name": "Python 3"
    },
    "language_info": {
      "name": "python"
    }
  },
  "cells": [
    {
      "cell_type": "markdown",
      "source": [
        "# **HYPERPARAMETER OPTIMIZATION**"
      ],
      "metadata": {
        "id": "Vb7ylnqCbZ8o"
      }
    },
    {
      "cell_type": "code",
      "execution_count": 1,
      "metadata": {
        "id": "ADmj7uErbW92"
      },
      "outputs": [],
      "source": [
        "from sklearn.datasets import load_iris\n",
        "from sklearn.model_selection import train_test_split\n",
        "from sklearn.ensemble import RandomForestClassifier\n",
        "\n",
        "X, y = load_iris(return_X_y=True)\n",
        "Xtr, Xval, ytr, yval = train_test_split(X, y, test_size=0.2, random_state=42)"
      ]
    },
    {
      "cell_type": "code",
      "source": [
        "import random\n",
        "\n",
        "def random_chrom():\n",
        "    return [\n",
        "        random.randint(10, 200),   # número de árboles\n",
        "        random.randint(2, 10),     # profundidad máxima\n",
        "        random.randint(2, 10)      # numero de muestras\n",
        "    ]\n",
        "\n",
        "def fitness(chrom):\n",
        "    n_estimators, max_depth, min_samples_split = chrom\n",
        "    clf = RandomForestClassifier(\n",
        "        n_estimators=n_estimators,\n",
        "        max_depth=max_depth,\n",
        "        min_samples_split=min_samples_split,\n",
        "        random_state=42\n",
        "    )\n",
        "    clf.fit(Xtr, ytr)\n",
        "    return clf.score(Xval, yval)\n",
        "\n",
        "def tournament_selection(pop, fitnesses, k=3):\n",
        "    selected = []\n",
        "    for _ in range(len(pop)):\n",
        "        aspirants = random.sample(list(range(len(pop))), k)\n",
        "        winner = max(aspirants, key=lambda i: fitnesses[i])\n",
        "        selected.append(pop[winner])\n",
        "    return selected\n",
        "\n",
        "def one_point_crossover(p1, p2):\n",
        "    point = random.randint(1, len(p1)-1)\n",
        "    return p1[:point]+p2[point:], p2[:point]+p1[point:]\n",
        "\n",
        "def mutate(chrom, pm=0.3):\n",
        "    if random.random() < pm:\n",
        "        chrom[0] = random.randint(10,200)\n",
        "    if random.random() < pm:\n",
        "        chrom[1] = random.randint(2,10)\n",
        "    if random.random() < pm:\n",
        "        chrom[2] = random.randint(2,10)\n",
        "    return chrom"
      ],
      "metadata": {
        "id": "Kvsgi8UJbib3"
      },
      "execution_count": 2,
      "outputs": []
    },
    {
      "cell_type": "code",
      "source": [
        "POP_SIZE = 6\n",
        "GENERATIONS = 5\n",
        "\n",
        "pop = [random_chrom() for _ in range(POP_SIZE)]\n",
        "print(\"Población inicial:\", pop)\n",
        "\n",
        "fitnesses = [fitness(ch) for ch in pop]\n",
        "\n",
        "for gen in range(GENERATIONS):\n",
        "    print(f\"\\n=== Generación {gen} ===\")\n",
        "    for i, (chrom, fit) in enumerate(zip(pop, fitnesses)):\n",
        "        print(f\" Individuo {i}: {chrom} → Fitness={fit:.4f}\")\n",
        "\n",
        "    parents = tournament_selection(pop, fitnesses, k=3)\n",
        "\n",
        "    next_pop = []\n",
        "    for i in range(0, POP_SIZE, 2):\n",
        "        c1, c2 = one_point_crossover(parents[i], parents[(i+1)%POP_SIZE])\n",
        "        next_pop += [c1, c2]\n",
        "\n",
        "    next_pop = [mutate(c) for c in next_pop]\n",
        "    print(\"   Después de mutación:\", next_pop)\n",
        "\n",
        "    fitnesses = [fitness(ch) for ch in next_pop]\n",
        "    pop = next_pop\n",
        "\n",
        "best_idx = max(range(len(fitnesses)), key=lambda i: fitnesses[i])\n",
        "print(\"\\n=== Mejor solución encontrada ===\")\n",
        "print(\"Mejores hiperparámetros:\", pop[best_idx])\n",
        "print(\"Fitness:\", fitnesses[best_idx])"
      ],
      "metadata": {
        "id": "SKglOtplbm6o",
        "outputId": "02ef2bb3-c585-4fec-8260-2b3f07a8da09",
        "colab": {
          "base_uri": "https://localhost:8080/"
        }
      },
      "execution_count": 3,
      "outputs": [
        {
          "output_type": "stream",
          "name": "stdout",
          "text": [
            "Población inicial: [[187, 6, 2], [76, 10, 6], [113, 4, 6], [129, 9, 8], [32, 8, 2], [80, 3, 10]]\n",
            "\n",
            "=== Generación 0 ===\n",
            " Individuo 0: [187, 6, 2] → Fitness=1.0000\n",
            " Individuo 1: [76, 10, 6] → Fitness=1.0000\n",
            " Individuo 2: [113, 4, 6] → Fitness=1.0000\n",
            " Individuo 3: [129, 9, 8] → Fitness=1.0000\n",
            " Individuo 4: [32, 8, 2] → Fitness=1.0000\n",
            " Individuo 5: [80, 3, 10] → Fitness=1.0000\n",
            "   Después de mutación: [[113, 6, 2], [187, 4, 6], [80, 9, 8], [129, 4, 9], [80, 10, 6], [76, 3, 10]]\n",
            "\n",
            "=== Generación 1 ===\n",
            " Individuo 0: [113, 6, 2] → Fitness=1.0000\n",
            " Individuo 1: [187, 4, 6] → Fitness=1.0000\n",
            " Individuo 2: [80, 9, 8] → Fitness=1.0000\n",
            " Individuo 3: [129, 4, 9] → Fitness=1.0000\n",
            " Individuo 4: [80, 10, 6] → Fitness=1.0000\n",
            " Individuo 5: [76, 3, 10] → Fitness=1.0000\n",
            "   Después de mutación: [[129, 10, 6], [80, 10, 9], [73, 9, 6], [75, 7, 8], [80, 7, 6], [83, 4, 6]]\n",
            "\n",
            "=== Generación 2 ===\n",
            " Individuo 0: [129, 10, 6] → Fitness=1.0000\n",
            " Individuo 1: [80, 10, 9] → Fitness=1.0000\n",
            " Individuo 2: [73, 9, 6] → Fitness=1.0000\n",
            " Individuo 3: [75, 7, 8] → Fitness=1.0000\n",
            " Individuo 4: [80, 7, 6] → Fitness=1.0000\n",
            " Individuo 5: [83, 4, 6] → Fitness=1.0000\n",
            "   Después de mutación: [[125, 7, 6], [73, 9, 6], [80, 7, 3], [70, 10, 6], [73, 9, 6], [80, 9, 6]]\n",
            "\n",
            "=== Generación 3 ===\n",
            " Individuo 0: [125, 7, 6] → Fitness=1.0000\n",
            " Individuo 1: [73, 9, 6] → Fitness=1.0000\n",
            " Individuo 2: [80, 7, 3] → Fitness=1.0000\n",
            " Individuo 3: [70, 10, 6] → Fitness=1.0000\n",
            " Individuo 4: [73, 9, 6] → Fitness=1.0000\n",
            " Individuo 5: [80, 9, 6] → Fitness=1.0000\n",
            "   Después de mutación: [[80, 9, 6], [70, 10, 6], [73, 5, 7], [125, 9, 8], [80, 9, 6], [130, 9, 6]]\n",
            "\n",
            "=== Generación 4 ===\n",
            " Individuo 0: [80, 9, 6] → Fitness=1.0000\n",
            " Individuo 1: [70, 10, 6] → Fitness=1.0000\n",
            " Individuo 2: [73, 5, 7] → Fitness=1.0000\n",
            " Individuo 3: [125, 9, 8] → Fitness=1.0000\n",
            " Individuo 4: [80, 9, 6] → Fitness=1.0000\n",
            " Individuo 5: [130, 9, 6] → Fitness=1.0000\n",
            "   Después de mutación: [[80, 9, 8], [125, 9, 6], [70, 9, 8], [125, 10, 4], [80, 4, 5], [30, 9, 4]]\n",
            "\n",
            "=== Mejor solución encontrada ===\n",
            "Mejores hiperparámetros: [80, 9, 8]\n",
            "Fitness: 1.0\n"
          ]
        }
      ]
    }
  ]
}