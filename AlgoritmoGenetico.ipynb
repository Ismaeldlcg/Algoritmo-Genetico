{
  "nbformat": 4,
  "nbformat_minor": 0,
  "metadata": {
    "colab": {
      "provenance": []
    },
    "kernelspec": {
      "name": "python3",
      "display_name": "Python 3"
    },
    "language_info": {
      "name": "python"
    }
  },
  "cells": [
    {
      "cell_type": "markdown",
      "source": [
        "# **FEATURE SELECTION**"
      ],
      "metadata": {
        "id": "LX05IQexTlaJ"
      }
    },
    {
      "cell_type": "code",
      "source": [
        "import numpy as np\n",
        "import random\n",
        "from sklearn.datasets import load_breast_cancer\n",
        "from sklearn.model_selection import train_test_split\n",
        "from sklearn.neighbors import KNeighborsClassifier\n",
        "\n",
        "# Dataset\n",
        "X, y = load_breast_cancer(return_X_y=True)\n",
        "Xtr, Xval, ytr, yval = train_test_split(X, y, test_size=0.2, random_state=42)\n",
        "\n",
        "n_features = X.shape[1]\n",
        "print(\"Número de características:\", n_features)\n"
      ],
      "metadata": {
        "colab": {
          "base_uri": "https://localhost:8080/"
        },
        "id": "TnPEp_haTlJy",
        "outputId": "bb09d984-1842-45fd-81e7-089cc39d587a"
      },
      "execution_count": null,
      "outputs": [
        {
          "output_type": "stream",
          "name": "stdout",
          "text": [
            "Número de características: 30\n"
          ]
        }
      ]
    },
    {
      "cell_type": "code",
      "source": [
        "# Cromosoma: vector binario de longitud n_features\n",
        "# Generar población inicial\n",
        "def random_chrom():\n",
        "    return [random.choice([0,1]) for _ in range(n_features)]\n",
        "\n",
        "#Evalúa la calidad de un cromosoma\n",
        "def fitness(chrom):\n",
        "    mask = np.array(chrom, dtype=bool)\n",
        "    if mask.sum() == 0:  # evita seleccionar 0 columnas\n",
        "        return 0\n",
        "    clf = KNeighborsClassifier(n_neighbors=5)\n",
        "    clf.fit(Xtr[:,mask], ytr)\n",
        "    return clf.score(Xval[:,mask], yval)\n",
        "#Seleccionar los mejores\n",
        "def tournament_selection(pop, fitnesses, k=3):\n",
        "    selected = []\n",
        "    for _ in range(len(pop)):\n",
        "        aspirants = random.sample(list(range(len(pop))), k)\n",
        "        winner = max(aspirants, key=lambda i: fitnesses[i])\n",
        "        selected.append(pop[winner])\n",
        "    return selected\n",
        "# Cruzar pares de padres\n",
        "def one_point_crossover(p1, p2):\n",
        "    point = random.randint(1, n_features-1)\n",
        "    return p1[:point]+p2[point:], p2[:point]+p1[point:]\n",
        "#Mutar ligeramente\n",
        "def mutate(chrom, pm=0.1):\n",
        "    for i in range(len(chrom)):\n",
        "        if random.random() < pm:\n",
        "            chrom[i] = 1 - chrom[i]\n",
        "    return chrom\n"
      ],
      "metadata": {
        "id": "8b5TwUK0Y1Cw"
      },
      "execution_count": null,
      "outputs": []
    },
    {
      "cell_type": "code",
      "source": [
        "POP_SIZE = 6 # Cromosomas\n",
        "GENERATIONS = 5\n",
        "\n",
        "# Inicialización\n",
        "pop = [random_chrom() for _ in range(POP_SIZE)]\n",
        "print(\"Población inicial:\", pop)\n",
        "\n",
        "fitnesses = [fitness(ch) for ch in pop]\n",
        "\n",
        "# Evolución\n",
        "for gen in range(GENERATIONS):\n",
        "    print(f\"\\n=== Generación {gen} ===\")\n",
        "    for i, (chrom, fit) in enumerate(zip(pop, fitnesses)):\n",
        "        print(f\" Individuo {i}: {chrom} → Fitness={fit:.4f}\")\n",
        "\n",
        "    parents = tournament_selection(pop, fitnesses, k=3)\n",
        "\n",
        "    next_pop = []\n",
        "    for i in range(0, POP_SIZE, 2):\n",
        "        c1, c2 = one_point_crossover(parents[i], parents[(i+1)%POP_SIZE])\n",
        "        next_pop += [c1, c2]\n",
        "\n",
        "    next_pop = [mutate(c) for c in next_pop]\n",
        "    print(\"   Después de mutación:\", next_pop)\n",
        "\n",
        "    fitnesses = [fitness(ch) for ch in next_pop]\n",
        "    pop = next_pop\n",
        "\n",
        "# Mejor solución\n",
        "best_idx = np.argmax(fitnesses)\n",
        "print(\"\\n=== Mejor solución encontrada ===\")\n",
        "print(\"Cromosoma:\", pop[best_idx])\n",
        "print(\"Fitness:\", fitnesses[best_idx])\n",
        "print(\"Características seleccionadas:\", np.where(np.array(pop[best_idx])==1)[0])\n"
      ],
      "metadata": {
        "colab": {
          "base_uri": "https://localhost:8080/"
        },
        "id": "Dh4_DSpfY2ZO",
        "outputId": "3f6299c8-cb92-4b1f-8a8b-dbdcde7be1e2"
      },
      "execution_count": null,
      "outputs": [
        {
          "output_type": "stream",
          "name": "stdout",
          "text": [
            "Población inicial: [[1, 1, 0, 1, 0, 0, 1, 0, 0, 0, 0, 1, 0, 1, 1, 1, 0, 0, 0, 1, 0, 1, 0, 1, 0, 0, 1, 0, 1, 1], [0, 0, 0, 0, 0, 1, 1, 1, 0, 1, 0, 1, 0, 1, 1, 1, 1, 1, 1, 0, 1, 1, 0, 0, 0, 0, 0, 1, 1, 1], [0, 1, 0, 0, 0, 0, 0, 1, 0, 0, 1, 1, 1, 1, 0, 0, 1, 1, 1, 0, 1, 0, 1, 0, 0, 0, 1, 0, 0, 0], [1, 0, 0, 0, 1, 1, 0, 0, 0, 0, 1, 0, 0, 0, 0, 0, 1, 0, 0, 0, 0, 1, 1, 1, 1, 1, 1, 1, 1, 1], [1, 0, 0, 0, 1, 0, 0, 0, 1, 0, 1, 1, 0, 0, 1, 0, 0, 1, 0, 1, 1, 1, 0, 1, 1, 0, 0, 1, 0, 1], [0, 0, 0, 0, 1, 0, 0, 0, 0, 0, 0, 0, 1, 0, 0, 0, 0, 1, 1, 0, 1, 1, 0, 1, 1, 0, 1, 1, 0, 1]]\n",
            "\n",
            "=== Generación 0 ===\n",
            " Individuo 0: [1, 1, 0, 1, 0, 0, 1, 0, 0, 0, 0, 1, 0, 1, 1, 1, 0, 0, 0, 1, 0, 1, 0, 1, 0, 0, 1, 0, 1, 1] → Fitness=0.9561\n",
            " Individuo 1: [0, 0, 0, 0, 0, 1, 1, 1, 0, 1, 0, 1, 0, 1, 1, 1, 1, 1, 1, 0, 1, 1, 0, 0, 0, 0, 0, 1, 1, 1] → Fitness=0.9298\n",
            " Individuo 2: [0, 1, 0, 0, 0, 0, 0, 1, 0, 0, 1, 1, 1, 1, 0, 0, 1, 1, 1, 0, 1, 0, 1, 0, 0, 0, 1, 0, 0, 0] → Fitness=0.9386\n",
            " Individuo 3: [1, 0, 0, 0, 1, 1, 0, 0, 0, 0, 1, 0, 0, 0, 0, 0, 1, 0, 0, 0, 0, 1, 1, 1, 1, 1, 1, 1, 1, 1] → Fitness=0.9386\n",
            " Individuo 4: [1, 0, 0, 0, 1, 0, 0, 0, 1, 0, 1, 1, 0, 0, 1, 0, 0, 1, 0, 1, 1, 1, 0, 1, 1, 0, 0, 1, 0, 1] → Fitness=0.9298\n",
            " Individuo 5: [0, 0, 0, 0, 1, 0, 0, 0, 0, 0, 0, 0, 1, 0, 0, 0, 0, 1, 1, 0, 1, 1, 0, 1, 1, 0, 1, 1, 0, 1] → Fitness=0.9211\n",
            "   Después de mutación: [[1, 1, 0, 0, 0, 0, 1, 0, 0, 0, 0, 1, 0, 1, 1, 1, 0, 0, 0, 0, 0, 1, 1, 1, 1, 1, 1, 1, 1, 1], [1, 0, 0, 0, 1, 1, 0, 0, 1, 0, 1, 0, 0, 0, 0, 1, 1, 0, 0, 0, 0, 1, 0, 1, 0, 0, 1, 0, 1, 1], [0, 1, 0, 0, 1, 1, 1, 0, 0, 0, 1, 0, 0, 0, 1, 0, 1, 0, 0, 0, 0, 1, 0, 1, 1, 0, 1, 1, 1, 1], [1, 0, 0, 1, 0, 0, 0, 1, 0, 0, 1, 1, 1, 1, 0, 0, 1, 1, 1, 1, 1, 0, 1, 0, 0, 0, 1, 0, 0, 0], [1, 1, 1, 1, 0, 0, 1, 0, 0, 0, 0, 1, 0, 1, 1, 1, 0, 0, 0, 1, 0, 1, 1, 1, 0, 0, 1, 0, 1, 1], [1, 1, 0, 1, 0, 0, 1, 0, 0, 0, 0, 1, 0, 1, 1, 1, 0, 0, 0, 1, 0, 1, 0, 1, 0, 0, 1, 0, 1, 1]]\n",
            "\n",
            "=== Generación 1 ===\n",
            " Individuo 0: [1, 1, 0, 0, 0, 0, 1, 0, 0, 0, 0, 1, 0, 1, 1, 1, 0, 0, 0, 0, 0, 1, 1, 1, 1, 1, 1, 1, 1, 1] → Fitness=0.9386\n",
            " Individuo 1: [1, 0, 0, 0, 1, 1, 0, 0, 1, 0, 1, 0, 0, 0, 0, 1, 1, 0, 0, 0, 0, 1, 0, 1, 0, 0, 1, 0, 1, 1] → Fitness=0.9298\n",
            " Individuo 2: [0, 1, 0, 0, 1, 1, 1, 0, 0, 0, 1, 0, 0, 0, 1, 0, 1, 0, 0, 0, 0, 1, 0, 1, 1, 0, 1, 1, 1, 1] → Fitness=0.9211\n",
            " Individuo 3: [1, 0, 0, 1, 0, 0, 0, 1, 0, 0, 1, 1, 1, 1, 0, 0, 1, 1, 1, 1, 1, 0, 1, 0, 0, 0, 1, 0, 0, 0] → Fitness=0.9649\n",
            " Individuo 4: [1, 1, 1, 1, 0, 0, 1, 0, 0, 0, 0, 1, 0, 1, 1, 1, 0, 0, 0, 1, 0, 1, 1, 1, 0, 0, 1, 0, 1, 1] → Fitness=0.9561\n",
            " Individuo 5: [1, 1, 0, 1, 0, 0, 1, 0, 0, 0, 0, 1, 0, 1, 1, 1, 0, 0, 0, 1, 0, 1, 0, 1, 0, 0, 1, 0, 1, 1] → Fitness=0.9561\n",
            "   Después de mutación: [[1, 1, 1, 1, 0, 0, 1, 0, 1, 0, 0, 1, 0, 1, 1, 1, 0, 0, 0, 1, 1, 0, 1, 0, 0, 0, 1, 0, 1, 0], [0, 0, 0, 1, 0, 0, 0, 1, 0, 0, 1, 1, 1, 1, 0, 0, 1, 1, 1, 1, 1, 1, 1, 1, 0, 0, 1, 0, 1, 1], [1, 1, 1, 1, 0, 0, 0, 1, 0, 0, 1, 1, 1, 1, 0, 0, 1, 1, 1, 0, 0, 0, 1, 0, 0, 0, 1, 0, 0, 0], [1, 0, 0, 1, 1, 0, 0, 0, 0, 0, 0, 1, 0, 1, 1, 1, 0, 0, 0, 1, 0, 1, 1, 1, 0, 0, 1, 0, 1, 1], [1, 1, 0, 1, 1, 0, 0, 1, 0, 0, 1, 1, 1, 1, 1, 1, 1, 1, 1, 0, 1, 0, 1, 0, 0, 0, 1, 0, 0, 0], [1, 1, 0, 0, 0, 1, 1, 0, 0, 0, 0, 1, 0, 1, 1, 1, 0, 0, 0, 0, 0, 1, 1, 1, 0, 1, 1, 1, 1, 1]]\n",
            "\n",
            "=== Generación 2 ===\n",
            " Individuo 0: [1, 1, 1, 1, 0, 0, 1, 0, 1, 0, 0, 1, 0, 1, 1, 1, 0, 0, 0, 1, 1, 0, 1, 0, 0, 0, 1, 0, 1, 0] → Fitness=0.9649\n",
            " Individuo 1: [0, 0, 0, 1, 0, 0, 0, 1, 0, 0, 1, 1, 1, 1, 0, 0, 1, 1, 1, 1, 1, 1, 1, 1, 0, 0, 1, 0, 1, 1] → Fitness=0.9561\n",
            " Individuo 2: [1, 1, 1, 1, 0, 0, 0, 1, 0, 0, 1, 1, 1, 1, 0, 0, 1, 1, 1, 0, 0, 0, 1, 0, 0, 0, 1, 0, 0, 0] → Fitness=0.9649\n",
            " Individuo 3: [1, 0, 0, 1, 1, 0, 0, 0, 0, 0, 0, 1, 0, 1, 1, 1, 0, 0, 0, 1, 0, 1, 1, 1, 0, 0, 1, 0, 1, 1] → Fitness=0.9561\n",
            " Individuo 4: [1, 1, 0, 1, 1, 0, 0, 1, 0, 0, 1, 1, 1, 1, 1, 1, 1, 1, 1, 0, 1, 0, 1, 0, 0, 0, 1, 0, 0, 0] → Fitness=0.9649\n",
            " Individuo 5: [1, 1, 0, 0, 0, 1, 1, 0, 0, 0, 0, 1, 0, 1, 1, 1, 0, 0, 0, 0, 0, 1, 1, 1, 0, 1, 1, 1, 1, 1] → Fitness=0.9386\n",
            "   Después de mutación: [[0, 1, 1, 1, 1, 0, 0, 1, 0, 0, 1, 1, 1, 1, 1, 1, 1, 1, 1, 0, 1, 0, 1, 0, 0, 0, 1, 0, 0, 0], [1, 1, 0, 1, 0, 0, 1, 0, 1, 0, 0, 1, 0, 1, 1, 1, 0, 0, 0, 1, 0, 0, 0, 0, 0, 0, 1, 0, 0, 0], [1, 1, 0, 1, 1, 0, 0, 1, 0, 0, 1, 1, 1, 1, 1, 1, 1, 1, 1, 1, 0, 0, 1, 0, 1, 0, 1, 0, 0, 0], [1, 0, 1, 1, 0, 0, 1, 1, 0, 0, 1, 1, 0, 1, 0, 1, 1, 1, 1, 1, 1, 0, 0, 0, 0, 0, 1, 1, 0, 0], [0, 1, 0, 1, 1, 0, 0, 1, 0, 0, 1, 1, 1, 1, 1, 0, 1, 1, 1, 0, 0, 0, 1, 0, 0, 0, 1, 0, 0, 0], [1, 1, 1, 1, 0, 0, 0, 1, 0, 0, 1, 1, 1, 1, 0, 1, 1, 1, 1, 0, 1, 0, 1, 0, 1, 0, 1, 0, 0, 0]]\n",
            "\n",
            "=== Generación 3 ===\n",
            " Individuo 0: [0, 1, 1, 1, 1, 0, 0, 1, 0, 0, 1, 1, 1, 1, 1, 1, 1, 1, 1, 0, 1, 0, 1, 0, 0, 0, 1, 0, 0, 0] → Fitness=0.9649\n",
            " Individuo 1: [1, 1, 0, 1, 0, 0, 1, 0, 1, 0, 0, 1, 0, 1, 1, 1, 0, 0, 0, 1, 0, 0, 0, 0, 0, 0, 1, 0, 0, 0] → Fitness=0.9386\n",
            " Individuo 2: [1, 1, 0, 1, 1, 0, 0, 1, 0, 0, 1, 1, 1, 1, 1, 1, 1, 1, 1, 1, 0, 0, 1, 0, 1, 0, 1, 0, 0, 0] → Fitness=0.9649\n",
            " Individuo 3: [1, 0, 1, 1, 0, 0, 1, 1, 0, 0, 1, 1, 0, 1, 0, 1, 1, 1, 1, 1, 1, 0, 0, 0, 0, 0, 1, 1, 0, 0] → Fitness=0.9298\n",
            " Individuo 4: [0, 1, 0, 1, 1, 0, 0, 1, 0, 0, 1, 1, 1, 1, 1, 0, 1, 1, 1, 0, 0, 0, 1, 0, 0, 0, 1, 0, 0, 0] → Fitness=0.9649\n",
            " Individuo 5: [1, 1, 1, 1, 0, 0, 0, 1, 0, 0, 1, 1, 1, 1, 0, 1, 1, 1, 1, 0, 1, 0, 1, 0, 1, 0, 1, 0, 0, 0] → Fitness=0.9649\n",
            "   Después de mutación: [[1, 1, 1, 0, 0, 0, 0, 1, 0, 0, 1, 0, 1, 1, 0, 1, 1, 1, 1, 0, 1, 0, 1, 0, 0, 0, 0, 0, 1, 0], [0, 1, 1, 1, 1, 0, 0, 1, 0, 0, 1, 1, 1, 1, 1, 1, 0, 1, 1, 1, 1, 1, 1, 0, 1, 0, 1, 0, 0, 0], [1, 1, 1, 0, 0, 1, 0, 1, 0, 0, 1, 1, 1, 0, 0, 1, 1, 1, 1, 0, 1, 0, 1, 1, 1, 0, 1, 0, 0, 0], [1, 1, 0, 1, 1, 0, 0, 1, 0, 0, 0, 1, 1, 1, 1, 1, 1, 1, 1, 1, 0, 0, 1, 0, 1, 0, 1, 0, 1, 0], [0, 0, 0, 1, 1, 0, 0, 1, 0, 0, 1, 1, 0, 1, 1, 1, 1, 1, 1, 0, 1, 0, 1, 1, 1, 0, 1, 1, 0, 0], [0, 1, 1, 1, 0, 1, 0, 1, 0, 0, 1, 1, 1, 0, 0, 1, 1, 1, 1, 0, 0, 0, 1, 0, 1, 0, 1, 0, 0, 1]]\n",
            "\n",
            "=== Generación 4 ===\n",
            " Individuo 0: [1, 1, 1, 0, 0, 0, 0, 1, 0, 0, 1, 0, 1, 1, 0, 1, 1, 1, 1, 0, 1, 0, 1, 0, 0, 0, 0, 0, 1, 0] → Fitness=0.9649\n",
            " Individuo 1: [0, 1, 1, 1, 1, 0, 0, 1, 0, 0, 1, 1, 1, 1, 1, 1, 0, 1, 1, 1, 1, 1, 1, 0, 1, 0, 1, 0, 0, 0] → Fitness=0.9474\n",
            " Individuo 2: [1, 1, 1, 0, 0, 1, 0, 1, 0, 0, 1, 1, 1, 0, 0, 1, 1, 1, 1, 0, 1, 0, 1, 1, 1, 0, 1, 0, 0, 0] → Fitness=0.9211\n",
            " Individuo 3: [1, 1, 0, 1, 1, 0, 0, 1, 0, 0, 0, 1, 1, 1, 1, 1, 1, 1, 1, 1, 0, 0, 1, 0, 1, 0, 1, 0, 1, 0] → Fitness=0.9649\n",
            " Individuo 4: [0, 0, 0, 1, 1, 0, 0, 1, 0, 0, 1, 1, 0, 1, 1, 1, 1, 1, 1, 0, 1, 0, 1, 1, 1, 0, 1, 1, 0, 0] → Fitness=0.9474\n",
            " Individuo 5: [0, 1, 1, 1, 0, 1, 0, 1, 0, 0, 1, 1, 1, 0, 0, 1, 1, 1, 1, 0, 0, 0, 1, 0, 1, 0, 1, 0, 0, 1] → Fitness=0.9649\n",
            "   Después de mutación: [[1, 1, 0, 1, 0, 1, 0, 1, 0, 0, 1, 1, 1, 0, 1, 0, 1, 1, 1, 1, 0, 0, 0, 0, 1, 0, 1, 0, 0, 1], [0, 1, 1, 1, 0, 0, 0, 1, 1, 0, 1, 1, 1, 0, 0, 1, 1, 1, 1, 0, 0, 0, 1, 0, 1, 0, 1, 0, 1, 1], [0, 1, 1, 1, 0, 0, 0, 1, 0, 0, 1, 0, 1, 1, 0, 1, 1, 1, 1, 0, 1, 1, 1, 0, 0, 0, 1, 0, 1, 0], [1, 1, 1, 0, 0, 1, 0, 1, 0, 0, 1, 0, 1, 0, 0, 1, 1, 0, 1, 1, 0, 0, 1, 0, 1, 0, 1, 0, 0, 1], [1, 1, 0, 1, 1, 0, 0, 1, 0, 0, 0, 1, 1, 1, 1, 1, 1, 1, 0, 1, 1, 0, 0, 0, 1, 0, 1, 0, 1, 0], [1, 1, 0, 1, 1, 0, 0, 1, 0, 0, 0, 1, 1, 1, 1, 1, 1, 1, 1, 1, 0, 0, 1, 0, 1, 0, 1, 0, 1, 0]]\n",
            "\n",
            "=== Mejor solución encontrada ===\n",
            "Cromosoma: [0, 1, 1, 1, 0, 0, 0, 1, 1, 0, 1, 1, 1, 0, 0, 1, 1, 1, 1, 0, 0, 0, 1, 0, 1, 0, 1, 0, 1, 1]\n",
            "Fitness: 0.9649122807017544\n",
            "Características seleccionadas: [ 1  2  3  7  8 10 11 12 15 16 17 18 22 24 26 28 29]\n"
          ]
        }
      ]
    },
    {
      "cell_type": "markdown",
      "source": [
        "# **HYPERPARAMETER OPTIMIZATION**"
      ],
      "metadata": {
        "id": "zC1damUzY7ae"
      }
    },
    {
      "cell_type": "code",
      "source": [
        "from sklearn.datasets import load_iris\n",
        "from sklearn.model_selection import train_test_split\n",
        "from sklearn.ensemble import RandomForestClassifier\n",
        "\n",
        "X, y = load_iris(return_X_y=True)\n",
        "Xtr, Xval, ytr, yval = train_test_split(X, y, test_size=0.2, random_state=42)"
      ],
      "metadata": {
        "id": "bDdjZxohZAvH"
      },
      "execution_count": null,
      "outputs": []
    },
    {
      "cell_type": "code",
      "source": [
        "import random\n",
        "\n",
        "def random_chrom():\n",
        "    return [\n",
        "        random.randint(10, 200),   # número de árboles\n",
        "        random.randint(2, 10),     # profundidad máxima\n",
        "        random.randint(2, 10)      # numero de muestras\n",
        "    ]\n",
        "\n",
        "def fitness(chrom):\n",
        "    n_estimators, max_depth, min_samples_split = chrom\n",
        "    clf = RandomForestClassifier(\n",
        "        n_estimators=n_estimators,\n",
        "        max_depth=max_depth,\n",
        "        min_samples_split=min_samples_split,\n",
        "        random_state=42\n",
        "    )\n",
        "    clf.fit(Xtr, ytr)\n",
        "    return clf.score(Xval, yval)\n",
        "\n",
        "def tournament_selection(pop, fitnesses, k=3):\n",
        "    selected = []\n",
        "    for _ in range(len(pop)):\n",
        "        aspirants = random.sample(list(range(len(pop))), k)\n",
        "        winner = max(aspirants, key=lambda i: fitnesses[i])\n",
        "        selected.append(pop[winner])\n",
        "    return selected\n",
        "\n",
        "def one_point_crossover(p1, p2):\n",
        "    point = random.randint(1, len(p1)-1)\n",
        "    return p1[:point]+p2[point:], p2[:point]+p1[point:]\n",
        "\n",
        "def mutate(chrom, pm=0.3):\n",
        "    if random.random() < pm:\n",
        "        chrom[0] = random.randint(10,200)\n",
        "    if random.random() < pm:\n",
        "        chrom[1] = random.randint(2,10)\n",
        "    if random.random() < pm:\n",
        "        chrom[2] = random.randint(2,10)\n",
        "    return chrom\n"
      ],
      "metadata": {
        "id": "vN35RsG5ZEnn"
      },
      "execution_count": null,
      "outputs": []
    },
    {
      "cell_type": "code",
      "source": [
        "POP_SIZE = 6\n",
        "GENERATIONS = 5\n",
        "\n",
        "pop = [random_chrom() for _ in range(POP_SIZE)]\n",
        "print(\"Población inicial:\", pop)\n",
        "\n",
        "fitnesses = [fitness(ch) for ch in pop]\n",
        "\n",
        "for gen in range(GENERATIONS):\n",
        "    print(f\"\\n=== Generación {gen} ===\")\n",
        "    for i, (chrom, fit) in enumerate(zip(pop, fitnesses)):\n",
        "        print(f\" Individuo {i}: {chrom} → Fitness={fit:.4f}\")\n",
        "\n",
        "    parents = tournament_selection(pop, fitnesses, k=3)\n",
        "\n",
        "    next_pop = []\n",
        "    for i in range(0, POP_SIZE, 2):\n",
        "        c1, c2 = one_point_crossover(parents[i], parents[(i+1)%POP_SIZE])\n",
        "        next_pop += [c1, c2]\n",
        "\n",
        "    next_pop = [mutate(c) for c in next_pop]\n",
        "    print(\"   Después de mutación:\", next_pop)\n",
        "\n",
        "    fitnesses = [fitness(ch) for ch in next_pop]\n",
        "    pop = next_pop\n",
        "\n",
        "best_idx = max(range(len(fitnesses)), key=lambda i: fitnesses[i])\n",
        "print(\"\\n=== Mejor solución encontrada ===\")\n",
        "print(\"Mejores hiperparámetros:\", pop[best_idx])\n",
        "print(\"Fitness:\", fitnesses[best_idx])"
      ],
      "metadata": {
        "colab": {
          "base_uri": "https://localhost:8080/"
        },
        "id": "RMtdBOCpZGlX",
        "outputId": "992aca89-fe37-4c29-e43c-239346aace44"
      },
      "execution_count": null,
      "outputs": [
        {
          "output_type": "stream",
          "name": "stdout",
          "text": [
            "Población inicial: [[180, 9, 10], [160, 2, 10], [110, 3, 5], [45, 5, 10], [53, 2, 5], [130, 6, 5]]\n",
            "\n",
            "=== Generación 0 ===\n",
            " Individuo 0: [180, 9, 10] → Fitness=1.0000\n",
            " Individuo 1: [160, 2, 10] → Fitness=1.0000\n",
            " Individuo 2: [110, 3, 5] → Fitness=1.0000\n",
            " Individuo 3: [45, 5, 10] → Fitness=1.0000\n",
            " Individuo 4: [53, 2, 5] → Fitness=1.0000\n",
            " Individuo 5: [130, 6, 5] → Fitness=1.0000\n",
            "   Después de mutación: [[130, 2, 5], [117, 3, 5], [173, 6, 5], [53, 10, 5], [160, 5, 10], [45, 2, 10]]\n",
            "\n",
            "=== Generación 1 ===\n",
            " Individuo 0: [130, 2, 5] → Fitness=1.0000\n",
            " Individuo 1: [117, 3, 5] → Fitness=1.0000\n",
            " Individuo 2: [173, 6, 5] → Fitness=1.0000\n",
            " Individuo 3: [53, 10, 5] → Fitness=1.0000\n",
            " Individuo 4: [160, 5, 10] → Fitness=1.0000\n",
            " Individuo 5: [45, 2, 10] → Fitness=1.0000\n",
            "   Después de mutación: [[13, 9, 5], [173, 10, 5], [130, 2, 5], [162, 3, 5], [117, 3, 9], [160, 5, 5]]\n",
            "\n",
            "=== Generación 2 ===\n",
            " Individuo 0: [13, 9, 5] → Fitness=1.0000\n",
            " Individuo 1: [173, 10, 5] → Fitness=1.0000\n",
            " Individuo 2: [130, 2, 5] → Fitness=1.0000\n",
            " Individuo 3: [162, 3, 5] → Fitness=1.0000\n",
            " Individuo 4: [117, 3, 9] → Fitness=1.0000\n",
            " Individuo 5: [160, 5, 5] → Fitness=1.0000\n",
            "   Después de mutación: [[130, 10, 9], [111, 3, 7], [130, 2, 6], [160, 3, 2], [144, 9, 5], [95, 3, 5]]\n",
            "\n",
            "=== Generación 3 ===\n",
            " Individuo 0: [130, 10, 9] → Fitness=1.0000\n",
            " Individuo 1: [111, 3, 7] → Fitness=1.0000\n",
            " Individuo 2: [130, 2, 6] → Fitness=1.0000\n",
            " Individuo 3: [160, 3, 2] → Fitness=1.0000\n",
            " Individuo 4: [144, 9, 5] → Fitness=1.0000\n",
            " Individuo 5: [95, 3, 5] → Fitness=1.0000\n",
            "   Después de mutación: [[160, 3, 9], [95, 3, 2], [160, 7, 9], [130, 10, 3], [95, 3, 7], [111, 3, 5]]\n",
            "\n",
            "=== Generación 4 ===\n",
            " Individuo 0: [160, 3, 9] → Fitness=1.0000\n",
            " Individuo 1: [95, 3, 2] → Fitness=1.0000\n",
            " Individuo 2: [160, 7, 9] → Fitness=1.0000\n",
            " Individuo 3: [130, 10, 3] → Fitness=1.0000\n",
            " Individuo 4: [95, 3, 7] → Fitness=1.0000\n",
            " Individuo 5: [111, 3, 5] → Fitness=1.0000\n",
            "   Después de mutación: [[160, 7, 9], [160, 3, 9], [125, 2, 3], [130, 10, 7], [111, 3, 5], [111, 3, 7]]\n",
            "\n",
            "=== Mejor solución encontrada ===\n",
            "Mejores hiperparámetros: [160, 7, 9]\n",
            "Fitness: 1.0\n"
          ]
        }
      ]
    },
    {
      "cell_type": "markdown",
      "source": [
        "# **NEUROEVOLUTION**"
      ],
      "metadata": {
        "id": "YrPnkCfyTmQ4"
      }
    },
    {
      "cell_type": "markdown",
      "source": [
        "algoritmo evolutivo"
      ],
      "metadata": {
        "id": "tXnUssE6UOfp"
      }
    },
    {
      "cell_type": "code",
      "execution_count": null,
      "metadata": {
        "colab": {
          "base_uri": "https://localhost:8080/"
        },
        "id": "2qZl5VCmJRdL",
        "outputId": "37d6dd5e-b3db-48d7-ae3e-c4360445f026"
      },
      "outputs": [
        {
          "output_type": "stream",
          "name": "stdout",
          "text": [
            "Shape: (2000, 100, 100, 1) Labels: (2000,)\n"
          ]
        }
      ],
      "source": [
        "import tensorflow as tf\n",
        "import tensorflow_datasets as tfds\n",
        "import matplotlib.pyplot as plt\n",
        "import cv2\n",
        "import numpy as np\n",
        "\n",
        "# Dataset\n",
        "setattr(tfds.image_classification.cats_vs_dogs, '_URL',\"https://download.microsoft.com/download/3/E/1/3E1C3F21-ECDB-4869-8368-6DEBA77B919F/kagglecatsanddogs_5340.zip\")\n",
        "datos, metadatos = tfds.load('cats_vs_dogs', as_supervised=True, with_info=True)\n",
        "\n",
        "# Procesar imágenes\n",
        "TAMANO_IMG=100 #........................... escala y tamaño.....................\n",
        "datos_entrenamiento = []\n",
        "for i, (imagen, etiqueta) in enumerate(datos['train']):\n",
        "  imagen = cv2.resize(imagen.numpy(), (TAMANO_IMG, TAMANO_IMG))\n",
        "  imagen = cv2.cvtColor(imagen, cv2.COLOR_BGR2GRAY)\n",
        "  imagen = imagen.reshape(TAMANO_IMG, TAMANO_IMG, 1)\n",
        "  datos_entrenamiento.append([imagen, etiqueta])\n",
        "\n",
        "X = np.array([i[0] for i in datos_entrenamiento]).astype(float)/255\n",
        "y = np.array([i[1] for i in datos_entrenamiento])\n",
        "\n",
        "X = X[:2000] # recorte y prueba de redes más rápido\n",
        "y = y[:2000]\n",
        "\n",
        "print(\"Shape:\", X.shape, \"Labels:\", y.shape)\n"
      ]
    },
    {
      "cell_type": "code",
      "source": [
        "import random\n",
        "from tensorflow.keras import Sequential\n",
        "from tensorflow.keras.layers import Conv2D, MaxPooling2D, Flatten, Dense, Dropout\n",
        "from tensorflow.keras.optimizers import Adam\n",
        "\n",
        "def map_lr(idx):\n",
        "    return {0:1e-2, 1:1e-3, 2:1e-4}[idx]\n",
        "\n",
        "# Cromosoma = [f1, f2, dense_units, dropout_idx, lr_idx] // cromosoma representando una red con genes:\n",
        "def build_model_from_chromosome(chrom, input_shape=(100,100,1)): #construcción del modelo\n",
        "    f1, f2, dense_units, dropout_idx, lr_idx = chrom\n",
        "    model = Sequential()\n",
        "    model.add(Conv2D(filters=f1, kernel_size=(3,3), activation='relu', input_shape=input_shape))\n",
        "    model.add(MaxPooling2D((2,2)))\n",
        "    model.add(Conv2D(filters=f2, kernel_size=(3,3), activation='relu'))\n",
        "    model.add(MaxPooling2D((2,2)))\n",
        "    model.add(Flatten())\n",
        "    model.add(Dense(dense_units, activation='relu'))\n",
        "    if dropout_idx == 1:\n",
        "        model.add(Dropout(0.25))\n",
        "    elif dropout_idx == 2:\n",
        "        model.add(Dropout(0.5))\n",
        "    model.add(Dense(1, activation='sigmoid'))\n",
        "\n",
        "    lr = map_lr(lr_idx)\n",
        "    model.compile(optimizer=Adam(learning_rate=lr),\n",
        "                  loss='binary_crossentropy',\n",
        "                  metrics=['accuracy'])\n",
        "    return model\n"
      ],
      "metadata": {
        "id": "AQyXjTTtKoqT"
      },
      "execution_count": null,
      "outputs": []
    },
    {
      "cell_type": "code",
      "source": [
        "#función de aptitud = val_accuracy //  redes => mejores y descartes\n",
        "def fitness(chrom):\n",
        "    model = build_model_from_chromosome(chrom)\n",
        "    history = model.fit(X, y, batch_size=32,\n",
        "                        validation_split=0.2,\n",
        "                        epochs=3,   #pocas epochs para pruebas\n",
        "                        verbose=0)\n",
        "    return history.history['val_accuracy'][-1]\n"
      ],
      "metadata": {
        "id": "BQOgIky_KqxK"
      },
      "execution_count": null,
      "outputs": []
    },
    {
      "cell_type": "code",
      "source": [
        "#operadores genéticos\n",
        "f_choices = [16, 32, 64]\n",
        "dense_choices = [32, 64, 128]\n",
        "dropout_idx = [0,1,2]   # 0=no, 1=0.25, 2=0.5\n",
        "lr_idx = [0,1,2]\n",
        "\n",
        "def random_chrom():\n",
        "    return [\n",
        "        random.choice(f_choices),\n",
        "        random.choice(f_choices),\n",
        "        random.choice(dense_choices),\n",
        "        random.choice(dropout_idx),\n",
        "        random.choice(lr_idx)\n",
        "    ]\n",
        "\n",
        "def tournament_selection(pop, fitnesses, k=3): #mejores individuos para rep.\n",
        "    selected = []\n",
        "    for _ in range(len(pop)):\n",
        "        aspirants = random.sample(list(range(len(pop))), k)\n",
        "        winner = max(aspirants, key=lambda i: fitnesses[i])\n",
        "        selected.append(pop[winner])\n",
        "    return selected\n",
        "\n",
        "def two_point_crossover(p1, p2):               # 2 redes se combinan para nuevas arq.\n",
        "    a, b = sorted(random.sample(range(len(p1)), 2))\n",
        "    c1 = p1[:a] + p2[a:b] + p1[b:]\n",
        "    c2 = p2[:a] + p1[a:b] + p2[b:]\n",
        "    return c1, c2\n",
        "\n",
        "def mutate(chrom, pm=0.2):                     # cambiar aleatoriamente un parametro\n",
        "    if random.random() < pm:\n",
        "        i = random.randrange(len(chrom))\n",
        "        chrom[i] = random_chrom()[i]\n",
        "    return chrom\n"
      ],
      "metadata": {
        "id": "H7fd1Q7LKr-T"
      },
      "execution_count": null,
      "outputs": []
    },
    {
      "cell_type": "code",
      "source": [
        "POP_SIZE = 4   # pobración de 4 cromos\n",
        "GENERATIONS = 3\n",
        "\n",
        "pop = [random_chrom() for _ in range(POP_SIZE)] # gen crom alet con los parametros del CNN\n",
        "fitnesses = [fitness(ch) for ch in pop]\n",
        "\n",
        "for gen in range(GENERATIONS):\n",
        "    print(f\"Generación {gen} | Mejor fitness: {max(fitnesses):.4f}\")\n",
        "    parents = tournament_selection(pop, fitnesses, k=3)\n",
        "    next_pop = []\n",
        "    for i in range(0, POP_SIZE, 2):\n",
        "        c1, c2 = two_point_crossover(parents[i], parents[(i+1)%POP_SIZE])\n",
        "        next_pop += [c1, c2]\n",
        "    next_pop = [mutate(c) for c in next_pop]\n",
        "    fitnesses = [fitness(ch) for ch in next_pop]\n",
        "    pop = next_pop\n",
        "\n",
        "best_idx = np.argmax(fitnesses)\n",
        "print(\"Mejor cromosoma:\", pop[best_idx], \"con fitness:\", fitnesses[best_idx])\n"
      ],
      "metadata": {
        "colab": {
          "base_uri": "https://localhost:8080/"
        },
        "id": "rY-dhOEcKtfS",
        "outputId": "0b2e7c09-fd51-455a-b046-614b0a96eca4"
      },
      "execution_count": null,
      "outputs": [
        {
          "output_type": "stream",
          "name": "stderr",
          "text": [
            "/usr/local/lib/python3.12/dist-packages/keras/src/layers/convolutional/base_conv.py:113: UserWarning: Do not pass an `input_shape`/`input_dim` argument to a layer. When using Sequential models, prefer using an `Input(shape)` object as the first layer in the model instead.\n",
            "  super().__init__(activity_regularizer=activity_regularizer, **kwargs)\n"
          ]
        },
        {
          "output_type": "stream",
          "name": "stdout",
          "text": [
            "Generación 0 | Mejor fitness: 0.6700\n",
            "Generación 1 | Mejor fitness: 0.6725\n",
            "Generación 2 | Mejor fitness: 0.6575\n",
            "Mejor cromosoma: [32, 32, 128, 0, 1] con fitness: 0.6825000047683716\n"
          ]
        }
      ]
    },
    {
      "cell_type": "markdown",
      "source": [
        "* 32 = filtros en la 1ra capa convolucional.\n",
        "* 32 = filtros en la 2da capa convolucional.\n",
        "* 128 = neuronas en la capa densa.\n",
        "* 0 = dropout = sin dropout.\n",
        "* 1 = tasa de aprendizaje (learning rate) = 1e-3.\n",
        "\n",
        "* Fitness 0.6825 = la red alcanzó 68.25% de exactitud en validación."
      ],
      "metadata": {
        "id": "9n3IyfqdW6E_"
      }
    }
  ]
}