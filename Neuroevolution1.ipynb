{
  "nbformat": 4,
  "nbformat_minor": 0,
  "metadata": {
    "colab": {
      "provenance": []
    },
    "kernelspec": {
      "name": "python3",
      "display_name": "Python 3"
    },
    "language_info": {
      "name": "python"
    }
  },
  "cells": [
    {
      "cell_type": "markdown",
      "source": [
        "# **NEUROEVOLUTION**"
      ],
      "metadata": {
        "id": "t-M8VLB3myO3"
      }
    },
    {
      "cell_type": "code",
      "execution_count": 4,
      "metadata": {
        "colab": {
          "base_uri": "https://localhost:8080/"
        },
        "id": "5qhcwM4ymnhh",
        "outputId": "5b9288d8-deba-4474-88a5-3f9652d56222"
      },
      "outputs": [
        {
          "output_type": "stream",
          "name": "stdout",
          "text": [
            "Shape: (2000, 100, 100, 1) Labels: (2000,)\n"
          ]
        }
      ],
      "source": [
        "import tensorflow as tf\n",
        "import tensorflow_datasets as tfds\n",
        "import matplotlib.pyplot as plt\n",
        "import cv2\n",
        "import numpy as np\n",
        "\n",
        "# Dataset\n",
        "setattr(tfds.image_classification.cats_vs_dogs, '_URL',\"https://download.microsoft.com/download/3/E/1/3E1C3F21-ECDB-4869-8368-6DEBA77B919F/kagglecatsanddogs_5340.zip\")\n",
        "datos, metadatos = tfds.load('cats_vs_dogs', as_supervised=True, with_info=True)\n",
        "\n",
        "# Procesar imágenes\n",
        "TAMANO_IMG=100 # escala y tamaño\n",
        "datos_entrenamiento = []\n",
        "for i, (imagen, etiqueta) in enumerate(datos['train']):\n",
        "  imagen = cv2.resize(imagen.numpy(), (TAMANO_IMG, TAMANO_IMG))\n",
        "  imagen = cv2.cvtColor(imagen, cv2.COLOR_BGR2GRAY)\n",
        "  imagen = imagen.reshape(TAMANO_IMG, TAMANO_IMG, 1)\n",
        "  datos_entrenamiento.append([imagen, etiqueta])\n",
        "\n",
        "X = np.array([i[0] for i in datos_entrenamiento]).astype(float)/255\n",
        "y = np.array([i[1] for i in datos_entrenamiento])\n",
        "\n",
        "X = X[:2000] # recorte y prueba de redes más rápido\n",
        "y = y[:2000]\n",
        "\n",
        "print(\"Shape:\", X.shape, \"Labels:\", y.shape)"
      ]
    },
    {
      "cell_type": "code",
      "source": [
        "import random\n",
        "from tensorflow.keras import Sequential\n",
        "from tensorflow.keras.layers import Conv2D, MaxPooling2D, Flatten, Dense, Dropout\n",
        "from tensorflow.keras.optimizers import Adam\n",
        "\n",
        "def map_lr(idx):\n",
        "    return {0:1e-2, 1:1e-3, 2:1e-4}[idx]\n",
        "\n",
        "# Cromosoma = [f1, f2, dense_units, dropout_idx, lr_idx] // cromosoma representando una red con genes:\n",
        "def build_model_from_chromosome(chrom, input_shape=(100,100,1)): #construcción del modelo\n",
        "    f1, f2, dense_units, dropout_idx, lr_idx = chrom\n",
        "    model = Sequential()\n",
        "    model.add(Conv2D(filters=f1, kernel_size=(3,3), activation='relu', input_shape=input_shape))\n",
        "    model.add(MaxPooling2D((2,2)))\n",
        "    model.add(Conv2D(filters=f2, kernel_size=(3,3), activation='relu'))\n",
        "    model.add(MaxPooling2D((2,2)))\n",
        "    model.add(Flatten())\n",
        "    model.add(Dense(dense_units, activation='relu'))\n",
        "    if dropout_idx == 1:\n",
        "        model.add(Dropout(0.25))\n",
        "    elif dropout_idx == 2:\n",
        "        model.add(Dropout(0.5))\n",
        "    model.add(Dense(1, activation='sigmoid'))\n",
        "\n",
        "    lr = map_lr(lr_idx)\n",
        "    model.compile(optimizer=Adam(learning_rate=lr),\n",
        "                  loss='binary_crossentropy',\n",
        "                  metrics=['accuracy'])\n",
        "    return model"
      ],
      "metadata": {
        "id": "ffzQc49mnsMW"
      },
      "execution_count": 7,
      "outputs": []
    },
    {
      "cell_type": "code",
      "source": [
        "#función de aptitud = val_accuracy //  redes => mejores y descartes\n",
        "def fitness(chrom):\n",
        "    model = build_model_from_chromosome(chrom)\n",
        "    history = model.fit(X, y, batch_size=32,\n",
        "                        validation_split=0.2,\n",
        "                        epochs=3,   # pocas epochs para pruebas\n",
        "                        verbose=0)\n",
        "    return history.history['val_accuracy'][-1]"
      ],
      "metadata": {
        "id": "T49j0ZXFntQ2"
      },
      "execution_count": 8,
      "outputs": []
    },
    {
      "cell_type": "code",
      "source": [
        "#operadores genéticos\n",
        "f_choices = [16, 32, 64]\n",
        "dense_choices = [32, 64, 128]\n",
        "dropout_idx = [0,1,2]   # 0=no, 1=0.25, 2=0.5\n",
        "lr_idx = [0,1,2]\n",
        "\n",
        "def random_chrom():\n",
        "    return [\n",
        "        random.choice(f_choices),\n",
        "        random.choice(f_choices),\n",
        "        random.choice(dense_choices),\n",
        "        random.choice(dropout_idx),\n",
        "        random.choice(lr_idx)\n",
        "    ]\n",
        "\n",
        "def tournament_selection(pop, fitnesses, k=3): #mejores individuos para rep.\n",
        "    selected = []\n",
        "    for _ in range(len(pop)):\n",
        "        aspirants = random.sample(list(range(len(pop))), k)\n",
        "        winner = max(aspirants, key=lambda i: fitnesses[i])\n",
        "        selected.append(pop[winner])\n",
        "    return selected\n",
        "\n",
        "def two_point_crossover(p1, p2):               # 2 redes se combinan para nuevas arq.\n",
        "    a, b = sorted(random.sample(range(len(p1)), 2))\n",
        "    c1 = p1[:a] + p2[a:b] + p1[b:]\n",
        "    c2 = p2[:a] + p1[a:b] + p2[b:]\n",
        "    return c1, c2\n",
        "\n",
        "def mutate(chrom, pm=0.2):                     # cambiar aleatoriamente un parametro\n",
        "    if random.random() < pm:\n",
        "        i = random.randrange(len(chrom))\n",
        "        chrom[i] = random_chrom()[i]\n",
        "    return chrom"
      ],
      "metadata": {
        "id": "kJv6ibWmnvsG"
      },
      "execution_count": 9,
      "outputs": []
    },
    {
      "cell_type": "code",
      "source": [
        "POP_SIZE = 4   # pobración de 4 cromos\n",
        "GENERATIONS = 3\n",
        "\n",
        "pop = [random_chrom() for _ in range(POP_SIZE)] # gen crom alet con los parametros del CNN\n",
        "fitnesses = [fitness(ch) for ch in pop]\n",
        "\n",
        "for gen in range(GENERATIONS):\n",
        "    print(f\"Generación {gen} | Mejor fitness: {max(fitnesses):.4f}\")\n",
        "    parents = tournament_selection(pop, fitnesses, k=3)\n",
        "    next_pop = []\n",
        "    for i in range(0, POP_SIZE, 2):\n",
        "        c1, c2 = two_point_crossover(parents[i], parents[(i+1)%POP_SIZE])\n",
        "        next_pop += [c1, c2]\n",
        "    next_pop = [mutate(c) for c in next_pop]\n",
        "    fitnesses = [fitness(ch) for ch in next_pop]\n",
        "    pop = next_pop\n",
        "\n",
        "best_idx = np.argmax(fitnesses)\n",
        "print(\"Mejor cromosoma:\", pop[best_idx], \"con fitness:\", fitnesses[best_idx])"
      ],
      "metadata": {
        "colab": {
          "base_uri": "https://localhost:8080/"
        },
        "id": "uXaO0oXfnwfO",
        "outputId": "1eb53605-8386-4b06-c786-c3fd8ebcd19f"
      },
      "execution_count": 10,
      "outputs": [
        {
          "output_type": "stream",
          "name": "stderr",
          "text": [
            "/usr/local/lib/python3.12/dist-packages/keras/src/layers/convolutional/base_conv.py:113: UserWarning: Do not pass an `input_shape`/`input_dim` argument to a layer. When using Sequential models, prefer using an `Input(shape)` object as the first layer in the model instead.\n",
            "  super().__init__(activity_regularizer=activity_regularizer, **kwargs)\n"
          ]
        },
        {
          "output_type": "stream",
          "name": "stdout",
          "text": [
            "Generación 0 | Mejor fitness: 0.7025\n",
            "Generación 1 | Mejor fitness: 0.6350\n",
            "Generación 2 | Mejor fitness: 0.6300\n",
            "Mejor cromosoma: [32, 64, 128, 1, 2] con fitness: 0.6549999713897705\n"
          ]
        }
      ]
    }
  ]
}